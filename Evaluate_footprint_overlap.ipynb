{
 "cells": [
  {
   "cell_type": "markdown",
   "id": "2faea81b-fe98-4232-b74e-affd6dbfc1da",
   "metadata": {},
   "source": [
    "## Evaluating survey footprints for Galactic Plane overlap"
   ]
  },
  {
   "cell_type": "markdown",
   "id": "bb3d1397-b8c8-4009-86a2-1bd1030151af",
   "metadata": {},
   "source": [
    "The purpose of this metric is to evaluate the overlap between the footprint covered by a given survey strategy and the footprint desired for Galactic Plane science\n",
    "\n",
    "This can be evaluated for each HEALpix in the survey region by identifying those pointings which receive more than a threshold number of total visits over the course of the 10yr LSST survey.  \n",
    "\n",
    "The following rough threshold for the total number of visits in all filters is adopted, based on the results of the exploration presented in the notebook GalacticVariabilityTimescales.ipynb https://github.com/LSST-TVSSC/software_tools/blob/main/GalacticVariabilityTimescales.ipynb"
   ]
  },
  {
   "cell_type": "code",
   "execution_count": 1,
   "id": "357cc5f6-6fc4-4e06-9514-62af10e6224f",
   "metadata": {},
   "outputs": [],
   "source": [
    "Nvisits_min = 500"
   ]
  },
  {
   "cell_type": "markdown",
   "id": "ce8b3c1b-5961-4f1d-ac2e-c00131f87448",
   "metadata": {},
   "source": [
    "To be completed:\n",
    "* Import Galactic Plane survey footprint map\n",
    "* Determine HEALpixs with Nvisits>Nvisits_min for survey OpSim\n",
    "* Calculate the survey area of well-surveyed HEALpix pointings from the desired region\n",
    "* Metric is the fraction of actual / desired survey area"
   ]
  },
  {
   "cell_type": "markdown",
   "id": "53ea199d-ca46-474b-811f-ffa98396bb03",
   "metadata": {},
   "source": [
    "Notes from Lynne and Peter regarding available OpSim footprint maps:"
   ]
  },
  {
   "cell_type": "code",
   "execution_count": null,
   "id": "804d4734-ef7f-413f-9bf5-0aaf81c97f3f",
   "metadata": {},
   "outputs": [],
   "source": [
    "Check: There's one already .. although it might need to be updated (sub in 'rubin_sim' in the imports instead of lsst.sims)\n",
    "Look at the first section of https://github.com/lsst-pst/survey_strategy/blob/main/fbs_1.7/SurveyFootprints-NvisitsVsArea.ipynb (cell 12 does the actual reading-in). It could look a bit simpler though!\n",
    "The nvisits maps themselves are available at https://epyc.astro.washington.edu/~lynnej/opsim_downloads/nvisits_maps.tar.gz (edited) \n",
    "\n",
    "Lynne Jones  1 hour ago\n",
    "Note that this doesn't have v2.0 yet though - if you want that one, we can put it up online somewhere too.\n",
    "\n",
    "Peter Yoachim  39 minutes ago\n",
    "OK, here's an example notebook that is up-to-date: https://github.com/lsst/rubin_sim_notebooks/blob/main/maf/tutorial/Number_of_visits.ipynb\n",
    "A beta of the 2.0 baseline is here, but expect it to change slightly before the final release: https://lsst.ncsa.illinois.edu/sim-data/sims_featureScheduler_runs2.0/baseline/baseline_v2.0_10yrs.db"
   ]
  },
  {
   "cell_type": "code",
   "execution_count": null,
   "id": "d26b36da-270b-4855-90bd-76950033f611",
   "metadata": {},
   "outputs": [],
   "source": []
  }
 ],
 "metadata": {
  "kernelspec": {
   "display_name": "Python 3 (ipykernel)",
   "language": "python",
   "name": "python3"
  },
  "language_info": {
   "codemirror_mode": {
    "name": "ipython",
    "version": 3
   },
   "file_extension": ".py",
   "mimetype": "text/x-python",
   "name": "python",
   "nbconvert_exporter": "python",
   "pygments_lexer": "ipython3",
   "version": "3.9.6"
  }
 },
 "nbformat": 4,
 "nbformat_minor": 5
}
