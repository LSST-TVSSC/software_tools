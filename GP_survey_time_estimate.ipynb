{
 "cells": [
  {
   "cell_type": "code",
   "execution_count": 3,
   "id": "163b7d7d-e666-4b4d-83ed-3e099bef95d1",
   "metadata": {},
   "outputs": [
    {
     "data": {
      "text/plain": [
       "354.1666666666667"
      ]
     },
     "execution_count": 3,
     "metadata": {},
     "output_type": "execute_result"
    }
   ],
   "source": [
    "import numpy as np\n",
    "\n",
    "total_area = (2*85.0) * (2*10.0)\n",
    "fov = 9.6\n",
    "\n",
    "Npointings = total_area/fov\n",
    "Npointings"
   ]
  },
  {
   "cell_type": "code",
   "execution_count": 5,
   "id": "ffd63594-d9d1-46fd-99ed-3442fa0a14e1",
   "metadata": {},
   "outputs": [
    {
     "data": {
      "text/plain": [
       "450.0"
      ]
     },
     "execution_count": 5,
     "metadata": {},
     "output_type": "execute_result"
    }
   ],
   "source": [
    "tvisit = 42.0 / 3600.0  #hrs\n",
    "tslew = 30.0 / 3600.0\n",
    "hrs_per_night = 9.0\n",
    "visits_per_night = hrs_per_night / (tvisit+tslew)\n",
    "visits_per_night"
   ]
  },
  {
   "cell_type": "markdown",
   "id": "276280a6-bd2d-401b-9e25-00e0779640a0",
   "metadata": {},
   "source": [
    "Time taken to image all visits in the GP survey region once:"
   ]
  },
  {
   "cell_type": "code",
   "execution_count": 6,
   "id": "4e1d01a5-2ffc-4c46-b3b5-82d462f1d883",
   "metadata": {},
   "outputs": [
    {
     "data": {
      "text/plain": [
       "7.083333333333334"
      ]
     },
     "execution_count": 6,
     "metadata": {},
     "output_type": "execute_result"
    }
   ],
   "source": [
    "Tsurvey = Npointings * (tvisit+tslew)\n",
    "Tsurvey"
   ]
  },
  {
   "cell_type": "markdown",
   "id": "fe2c67f6-249c-4b6b-b9f8-6fa2559e4685",
   "metadata": {},
   "source": [
    "Assuming a nominal cadence of 1 visit per field every 3 days in alternating filters, similar to the WFD, estimate the time taken over 1 yr:"
   ]
  },
  {
   "cell_type": "code",
   "execution_count": 12,
   "id": "a835ca32-8cab-4033-a064-3b804e8357db",
   "metadata": {},
   "outputs": [
    {
     "name": "stdout",
     "output_type": "stream",
     "text": [
      "Time taken for GP survey annually = 860.0111111111113\n",
      "Total LSST survey time annually = 2458.62\n",
      "Fraction of available survey time = 35.0%\n"
     ]
    }
   ],
   "source": [
    "cadence = 3.0 #days\n",
    "Tsurvey_annual = Tsurvey * 364.24/cadence\n",
    "print('Time taken for GP survey annually = '+str(Tsurvey_annual))\n",
    "Total_survey_annual = 364.24 * 0.75 * hrs_per_night\n",
    "print('Total LSST survey time annually = '+str(Total_survey_annual))\n",
    "survey_fraction = Tsurvey_annual / Total_survey_annual\n",
    "print('Fraction of available survey time = '+str(round(survey_fraction*100.0,0))+'%')"
   ]
  },
  {
   "cell_type": "markdown",
   "id": "4b130bc3-4e66-478c-8d1f-dad1a8f23a31",
   "metadata": {},
   "source": [
    "For comparison, it is estimated that ~10% of the on-sky time for LSST is available for non WFD-surveys. "
   ]
  },
  {
   "cell_type": "code",
   "execution_count": null,
   "id": "462d0688-7936-438f-b2ec-d019fc37b1ef",
   "metadata": {},
   "outputs": [],
   "source": []
  }
 ],
 "metadata": {
  "kernelspec": {
   "display_name": "Python 3 (ipykernel)",
   "language": "python",
   "name": "python3"
  },
  "language_info": {
   "codemirror_mode": {
    "name": "ipython",
    "version": 3
   },
   "file_extension": ".py",
   "mimetype": "text/x-python",
   "name": "python",
   "nbconvert_exporter": "python",
   "pygments_lexer": "ipython3",
   "version": "3.9.6"
  }
 },
 "nbformat": 4,
 "nbformat_minor": 5
}
