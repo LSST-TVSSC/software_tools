{
 "cells": [
  {
   "cell_type": "code",
   "execution_count": 3,
   "id": "97748791",
   "metadata": {},
   "outputs": [],
   "source": [
    "import numpy as np\n",
    "from astropy import constants\n",
    "from astropy import units as u"
   ]
  },
  {
   "cell_type": "code",
   "execution_count": 49,
   "id": "509c15e9",
   "metadata": {},
   "outputs": [],
   "source": [
    "ML = 1.0 * u.M_sun.to('kg')  # Stellar mass host star \n",
    "ML = 10.0 * u.M_sun.to('kg')  # Compact object host star\n",
    "DL = 4000.0 * u.pc.to('m')\n",
    "DLS = 4000.0 * u.pc.to('m')\n",
    "DS = DL+DLS\n",
    "\n",
    "mu = 1.0 + (DL/DLS)\n",
    "D = (DL*DLS)/DS\n",
    "\n",
    "nu = 200.0 * 1000.0 * u.m.to('m')/u.s.to('s')"
   ]
  },
  {
   "cell_type": "markdown",
   "id": "7f04448d",
   "metadata": {},
   "source": [
    "Microlensing events have a characteristic angular Einstein radius, defined as:"
   ]
  },
  {
   "cell_type": "code",
   "execution_count": 50,
   "id": "3e0e4c7a",
   "metadata": {},
   "outputs": [
    {
     "name": "stdout",
     "output_type": "stream",
     "text": [
      "Angular Einstein radius = 1.5468380396130428e-08\n",
      "Einstein radius = 1909217384412.8086m\n"
     ]
    }
   ],
   "source": [
    "thetaE = np.sqrt( (4.0 * constants.G.value * ML)/(mu*DL*constants.c.value*constants.c.value) )\n",
    "RE = np.sqrt( (4.0 * constants.G.value * ML * D)/(constants.c.value*constants.c.value) )\n",
    "print('Angular Einstein radius = '+str(thetaE))\n",
    "print('Einstein radius = '+str(RE)+'m')"
   ]
  },
  {
   "cell_type": "markdown",
   "id": "67e64755",
   "metadata": {},
   "source": [
    "Stars in the Milky Way typically have velocities around 100 km/s.   We use an estimated relative rate of transverse motion"
   ]
  },
  {
   "cell_type": "markdown",
   "id": "6cce2826",
   "metadata": {},
   "source": [
    "The characteristic timescale of a microlensing event is given by the time the lens takes to cross the source"
   ]
  },
  {
   "cell_type": "code",
   "execution_count": 51,
   "id": "0a5d5ec8",
   "metadata": {},
   "outputs": [
    {
     "name": "stdout",
     "output_type": "stream",
     "text": [
      "Einstein crossing time, tE: 9546086.922064044s\n",
      "Einstein crossing time, tE: 110.48711715351902days\n"
     ]
    }
   ],
   "source": [
    "tE = RE / nu\n",
    "print('Einstein crossing time, tE: '+str(tE)+'s')\n",
    "print('Einstein crossing time, tE: '+str(tE/(60.0*60.0*24.0))+'days')"
   ]
  },
  {
   "cell_type": "markdown",
   "id": "7e57bb69",
   "metadata": {},
   "source": [
    "Typical angular sizes of lenses"
   ]
  },
  {
   "cell_type": "code",
   "execution_count": 56,
   "id": "06f917f3",
   "metadata": {},
   "outputs": [
    {
     "name": "stdout",
     "output_type": "stream",
     "text": [
      "0.018219507261976006\n"
     ]
    }
   ],
   "source": [
    "Rlens = 100*u.R_sun.to('m')\n",
    "thetaL = np.tan(Rlens / DS)\n",
    "print(thetaL/thetaE)"
   ]
  },
  {
   "cell_type": "code",
   "execution_count": 62,
   "id": "ff585d25",
   "metadata": {},
   "outputs": [
    {
     "name": "stdout",
     "output_type": "stream",
     "text": [
      "[[0 1 2 3 4 5 6 7 8 9]\n",
      " [0 1 2 3 4 5 6 7 8 9]\n",
      " [0 1 2 3 4 5 6 7 8 9]\n",
      " [0 1 2 3 4 5 6 7 8 9]\n",
      " [0 1 2 3 4 5 6 7 8 9]\n",
      " [0 1 2 3 4 5 6 7 8 9]\n",
      " [0 1 2 3 4 5 6 7 8 9]\n",
      " [0 1 2 3 4 5 6 7 8 9]\n",
      " [0 1 2 3 4 5 6 7 8 9]]\n",
      "[[10 10 10 10 10 10 10 10 10 10]\n",
      " [20 20 20 20 20 20 20 20 20 20]\n",
      " [30 30 30 30 30 30 30 30 30 30]\n",
      " [40 40 40 40 40 40 40 40 40 40]\n",
      " [50 50 50 50 50 50 50 50 50 50]\n",
      " [60 60 60 60 60 60 60 60 60 60]\n",
      " [70 70 70 70 70 70 70 70 70 70]\n",
      " [80 80 80 80 80 80 80 80 80 80]\n",
      " [90 90 90 90 90 90 90 90 90 90]]\n",
      "[[10  9  8  7  6  5  4  3  2  1]\n",
      " [20 19 18 17 16 15 14 13 12 11]\n",
      " [30 29 28 27 26 25 24 23 22 21]\n",
      " [40 39 38 37 36 35 34 33 32 31]\n",
      " [50 49 48 47 46 45 44 43 42 41]\n",
      " [60 59 58 57 56 55 54 53 52 51]\n",
      " [70 69 68 67 66 65 64 63 62 61]\n",
      " [80 79 78 77 76 75 74 73 72 71]\n",
      " [90 89 88 87 86 85 84 83 82 81]]\n"
     ]
    }
   ],
   "source": [
    "ts = np.arange(0,10,1)\n",
    "ts2 = np.arange(10,100,10)\n",
    "tt1,tt2 = np.meshgrid(ts,ts2)\n",
    "print(tt1)\n",
    "print(tt2)\n",
    "print(tt2-tt1)"
   ]
  },
  {
   "cell_type": "code",
   "execution_count": 63,
   "id": "0c6e4f99",
   "metadata": {},
   "outputs": [
    {
     "name": "stdout",
     "output_type": "stream",
     "text": [
      "(array([3, 3, 3, 3, 3, 4, 4, 4, 4, 4, 4, 4, 4, 4, 4, 5, 5, 5, 5, 5, 5, 5,\n",
      "       5, 5, 5, 6, 6, 6, 6, 6, 6, 6, 6, 6, 6, 7, 7, 7, 7, 7, 7, 7, 7, 7,\n",
      "       7, 8, 8, 8, 8, 8, 8, 8, 8, 8, 8]), array([0, 1, 2, 3, 4, 0, 1, 2, 3, 4, 5, 6, 7, 8, 9, 0, 1, 2, 3, 4, 5, 6,\n",
      "       7, 8, 9, 0, 1, 2, 3, 4, 5, 6, 7, 8, 9, 0, 1, 2, 3, 4, 5, 6, 7, 8,\n",
      "       9, 0, 1, 2, 3, 4, 5, 6, 7, 8, 9]))\n"
     ]
    }
   ],
   "source": [
    "idx = np.where((tt2-tt1) > 35)\n",
    "print(idx)"
   ]
  },
  {
   "cell_type": "code",
   "execution_count": null,
   "id": "8ff509cd",
   "metadata": {},
   "outputs": [],
   "source": []
  }
 ],
 "metadata": {
  "kernelspec": {
   "display_name": "Python 3 (ipykernel)",
   "language": "python",
   "name": "python3"
  },
  "language_info": {
   "codemirror_mode": {
    "name": "ipython",
    "version": 3
   },
   "file_extension": ".py",
   "mimetype": "text/x-python",
   "name": "python",
   "nbconvert_exporter": "python",
   "pygments_lexer": "ipython3",
   "version": "3.9.7"
  }
 },
 "nbformat": 4,
 "nbformat_minor": 5
}
