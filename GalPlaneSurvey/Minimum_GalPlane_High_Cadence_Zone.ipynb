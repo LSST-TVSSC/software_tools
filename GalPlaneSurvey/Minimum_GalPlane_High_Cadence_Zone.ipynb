{
 "cells": [
  {
   "cell_type": "markdown",
   "id": "8085eede",
   "metadata": {},
   "source": [
    "# Minimum Region in Galactic Plane to cover at High Cadence\n",
    "\n",
    "Not all of the science cases proposed in the White Papers required high cadence observations.  The goal of some is to conduct a wide area survey down to the confusion limit, for example.  \n",
    "\n",
    "So what areas of the Galactic Plane require high cadence at a minimum?\n",
    "\n",
    "For the purposes of this investigation, high cadence is defined as science that requires observation intervals shorter than 3days. \n",
    "From those science cases considered for the Galactic Plane Survey science maps, the science that absolutely requires high cadence is:\n",
    "* Galactic Bulge (microlensing)\n",
    "* Magellanic Clouds (microlensing)\n",
    "* Bonito Star Forming Regions (variability in young stars)\n",
    "\n",
    "While other science cases certainly require time-domain data, the phenomena they are exploring don't necessarily require high cadence.  E.g. the study of periodic variables can be performed provided a sufficient number of visits is acquired over the lifetime of the survey.  Similarly, a census of Star Forming Regions can also be performed provided the confusion limit is reached in the co-added images in all filters.  "
   ]
  },
  {
   "cell_type": "code",
   "execution_count": 1,
   "id": "3d92cb43",
   "metadata": {},
   "outputs": [],
   "source": [
    "import matplotlib.pyplot as plt\n",
    "import numpy as np\n",
    "import healpy as hp\n",
    "from os import path, mkdir\n",
    "from sys import argv, exit\n",
    "from astropy import units as u\n",
    "from astropy.coordinates import Galactic, TETE, SkyCoord\n",
    "from astropy.io import fits\n",
    "from astropy.table import Table, Column\n",
    "from pylab import cm"
   ]
  },
  {
   "cell_type": "markdown",
   "id": "ad69db88",
   "metadata": {},
   "source": [
    "The regions of interest to each science case are available from the Galactic Science priority maps.  Throughout we use the following configuration of the HEALpixel resolution:"
   ]
  },
  {
   "cell_type": "code",
   "execution_count": 8,
   "id": "092e305a",
   "metadata": {},
   "outputs": [],
   "source": [
    "NSIDE = 64\n",
    "NPIX = hp.nside2npix(NSIDE)\n",
    "PIXAREA = hp.nside2pixarea(NSIDE,degrees=True)"
   ]
  },
  {
   "cell_type": "code",
   "execution_count": 6,
   "id": "7e5bfbbf",
   "metadata": {},
   "outputs": [],
   "source": [
    "def load_data_table(file_path):\n",
    "    hdul = fits.open(file_path)\n",
    "    table_data = hdul[1].data\n",
    "\n",
    "    table_data = []\n",
    "    for data_column in hdul[1].columns:\n",
    "        table_data.append(Column(data=hdul[1].data[data_column.name],\n",
    "                                 name=data_column.name))\n",
    "\n",
    "    return Table(table_data)"
   ]
  },
  {
   "cell_type": "code",
   "execution_count": 10,
   "id": "5955103a",
   "metadata": {},
   "outputs": [
    {
     "name": "stdout",
     "output_type": "stream",
     "text": [
      " combined_map galactic_plane_map ... xray_binaries_map k2_fields_map\n",
      "------------- ------------------ ... ----------------- -------------\n",
      " 1.974357e-05                0.0 ...       6.73144e-05           0.0\n",
      "1.8717947e-05                0.0 ...     6.4049185e-05           0.0\n",
      "1.9104638e-05                0.0 ...      6.507019e-05           0.0\n",
      "1.9765497e-05                0.0 ...      6.746013e-05           0.0\n",
      "2.0158071e-05                0.0 ...       6.88348e-05           0.0\n",
      "1.9144876e-05                0.0 ...     6.5591965e-05           0.0\n",
      "1.8870443e-05                0.0 ...      6.432672e-05           0.0\n",
      "          ...                ... ...               ...           ...\n",
      "   0.21016207                0.8 ...     0.00027247233           0.0\n",
      "   0.21015745                0.8 ...     0.00025903402           0.0\n",
      "   0.21015446                0.8 ...      0.0002472354           0.0\n",
      "   0.21015371                0.8 ...     0.00024351194           0.0\n",
      "   0.21015583                0.8 ...     0.00025090165           0.0\n",
      "    0.2101587                0.8 ...     0.00026137766           0.0\n",
      "   0.21015541                0.8 ...     0.00025123075           0.0\n",
      "Length = 49152 rows\n",
      "['combined_map', 'galactic_plane_map', 'magellenic_clouds_map', 'galactic_bulge_map', 'clementini_stellarpops_map', 'bonito_sfr_map', 'globular_clusters_map', 'open_clusters_map', 'sfr_map', 'pencilbeams_map', 'xray_binaries_map', 'k2_fields_map']\n"
     ]
    }
   ],
   "source": [
    "file_path = '/Users/rstreet1/software/LSST-TVS_software_tools/footprint_maps/priority_GalPlane_footprint_map_data_sum.fits'\n",
    "science_footprints = load_data_table(file_path)\n",
    "print(science_footprints)\n",
    "print(science_footprints.colnames)"
   ]
  },
  {
   "cell_type": "code",
   "execution_count": 11,
   "id": "68bacfbc",
   "metadata": {},
   "outputs": [
    {
     "name": "stdout",
     "output_type": "stream",
     "text": [
      "Area of combined survey region = 150.23sq deg.\n"
     ]
    }
   ],
   "source": [
    "include_maps = ['galactic_bulge_map', 'magellenic_clouds_map', 'bonito_sfr_map']\n",
    "\n",
    "combined_region = np.zeros(NPIX)\n",
    "for science_map in include_maps:\n",
    "    idx = np.where(science_footprints[science_map] > 0.0)[0]\n",
    "    combined_region[idx] = 1.0\n",
    "\n",
    "npixels = len(np.where(combined_region > 0.0)[0])\n",
    "total_area = npixels * PIXAREA\n",
    "print('Area of combined survey region = '+str(round(total_area,2))+'sq deg.')"
   ]
  },
  {
   "cell_type": "code",
   "execution_count": null,
   "id": "21049d11",
   "metadata": {},
   "outputs": [],
   "source": []
  }
 ],
 "metadata": {
  "kernelspec": {
   "display_name": "Python 3 (ipykernel)",
   "language": "python",
   "name": "python3"
  },
  "language_info": {
   "codemirror_mode": {
    "name": "ipython",
    "version": 3
   },
   "file_extension": ".py",
   "mimetype": "text/x-python",
   "name": "python",
   "nbconvert_exporter": "python",
   "pygments_lexer": "ipython3",
   "version": "3.9.7"
  }
 },
 "nbformat": 4,
 "nbformat_minor": 5
}
