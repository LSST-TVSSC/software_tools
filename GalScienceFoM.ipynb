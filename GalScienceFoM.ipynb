{
 "cells": [
  {
   "cell_type": "markdown",
   "id": "4186947b-552b-412a-9106-7251a9554349",
   "metadata": {},
   "source": [
    "## Galactic Science Figure of Merit"
   ]
  },
  {
   "cell_type": "markdown",
   "id": "5213890f-6abd-4500-bb05-2d1d74316e2a",
   "metadata": {},
   "source": [
    "A vast range of science can be derived from timeseries observations of objects within the Milky Way and the Magellanic Clouds, including studies of galactic structure, star formation, stellar pulsations, eclipses and accretion as well as transient phenomena such as microlensing, stellar flares and accretion outbursts.  \n",
    "\n",
    "The wide range of scientific goals makes it challenging to derive a simple, easily calculated Figure of Merit (FoM) which can be used to optimize the survey strategy.  Rather than create a proliforation of metrics for each science case, this FoM focuses instead on the main observing parameters describing any survey:\n",
    "* Footprint\n",
    "* Cadence\n",
    "* Filter selection\n",
    "* \\[Exposure time\\]"
   ]
  },
  {
   "cell_type": "markdown",
   "id": "5162f128-17d2-41b0-bf66-1831d72b0a32",
   "metadata": {},
   "source": [
    "A review of the galactic science Cadence Notes indicated a relatively weak dependence of scientific return on exposure time for the majority of science.  Where there are important exceptions, we present these as separate metrics.  Therefore exposure time is neglected in what follows. "
   ]
  },
  {
   "cell_type": "markdown",
   "id": "431c5588-105f-479b-bc7f-a07ece8a025e",
   "metadata": {},
   "source": [
    "By considering each of the survey observables individually, we have created metrics describing how the scientific return can be optimized as a function of each parameter, returning a metric value as a fraction.  The FoM is then defined to be product of all three observables, i.e.:\n",
    "\n",
    "$FoM = f(footprint) * f(cadence) * f(filters)$"
   ]
  },
  {
   "cell_type": "markdown",
   "id": "fda69b2b-2737-42c9-b9ed-90d2c142b56a",
   "metadata": {},
   "source": [
    "The metrics for each observing parameter are described in the following notebooks:\n",
    "* Footprint: https://github.com/LSST-TVSSC/software_tools/blob/main/GalacticPlaneSurveyFootprint.ipynb\n",
    "* Cadence: https://github.com/LSST-TVSSC/software_tools/blob/main/transientTimeSamplingMetric.py\n",
    "* Filter selection: https://github.com/LSST-TVSSC/software_tools/blob/main/GalacticFilterSelection.ipynb\n",
    "\n",
    "and the GalScienceFoM metric code can be found in:\n",
    "https://github.com/LSST-TVSSC/software_tools/blob/main/GalScienceFoM.py"
   ]
  },
  {
   "cell_type": "markdown",
   "id": "a5b863b0-e35f-44bd-873e-585dd679a466",
   "metadata": {},
   "source": [
    "Please note: currently the FoM produces a list of 4 numeric FoM values, which represent the FoM result for each of the four categories of variability described in the Cadence metric notebook.  \n",
    "\n",
    "Evaluating all four values for this FoM is valuable to help the community to interpret how an observing strategy benefits or detriments different types of science.  So it is preferable that all four values are calculated.  \n",
    "\n",
    "If a single FoM value is desired as an overall guide, then we proposed summing the four values.  "
   ]
  },
  {
   "cell_type": "code",
   "execution_count": null,
   "id": "a3db0633-f60f-4c2f-9c6a-713e30d977f4",
   "metadata": {},
   "outputs": [],
   "source": []
  }
 ],
 "metadata": {
  "kernelspec": {
   "display_name": "Python 3 (ipykernel)",
   "language": "python",
   "name": "python3"
  },
  "language_info": {
   "codemirror_mode": {
    "name": "ipython",
    "version": 3
   },
   "file_extension": ".py",
   "mimetype": "text/x-python",
   "name": "python",
   "nbconvert_exporter": "python",
   "pygments_lexer": "ipython3",
   "version": "3.9.6"
  }
 },
 "nbformat": 4,
 "nbformat_minor": 5
}
