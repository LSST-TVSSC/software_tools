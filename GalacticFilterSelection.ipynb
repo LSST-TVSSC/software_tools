{
 "cells": [
  {
   "cell_type": "markdown",
   "id": "d55d72f8-fcc5-42be-9c9a-75735407d6e7",
   "metadata": {},
   "source": [
    "## Filter Selection for Galactic Plane Fields"
   ]
  },
  {
   "cell_type": "markdown",
   "id": "6b5a8884-03e5-4b68-834c-644f52311062",
   "metadata": {},
   "source": [
    "The maps of desired fields within the Galactic Plane, Bulge and Magellanic Clouds (described in more detail in https://github.com/LSST-TVSSC/software_tools/blob/main/GalacticPlaneSurveyFootprint.ipynb) were designed to take into account the relative priority placed on observations in different filters by different science cases.  \n",
    "\n",
    "This was done by assigning a weighting between 0-1 to each filter for each science case, and this was factored by the priority of the pointing for each HEALpix.  Votes were then summed over all science cases considered, to create a priority map in each filter. "
   ]
  },
  {
   "cell_type": "markdown",
   "id": "e50ccf43-7144-48b0-86f3-d267b0f72d16",
   "metadata": {},
   "source": [
    "These filter-specific priority maps can be used in a metric to evaluate how well a given OpSim meets the filter requirements of the science in the following way. \n",
    "\n",
    "The proportion of observing time spent per filter can be calculated for each HEALpix as the total exposure time spent in each filter as a of the total exposure time dedicated to that HEALpix.  In the optimum survey strategy, these proportions per HEALpix should correspond to the relative priorities of that HEALpix in the priority maps for each filter.  \n",
    "\n",
    "The proportion of observing time per filter can then be summed over all HEALpix within the desired Galactic Plane survey region and over all filters.  The final metric presents a this result as a percentage of that expected from the ideal survey strategy.\n",
    "\n",
    "Metric code can be found at: https://github.com/LSST-TVSSC/software_tools/blob/main/TimePerFilterGalPlane.py"
   ]
  },
  {
   "cell_type": "code",
   "execution_count": 1,
   "id": "36221a6c-fdf8-4d83-83bc-6dc725f6d012",
   "metadata": {},
   "outputs": [],
   "source": [
    "from os import getenv, path\n",
    "import numpy as np\n",
    "import healpy as hp\n",
    "from healpy.newvisufunc import projview, newprojplot\n",
    "import science_priority_regions\n",
    "import generate_galplane_priority_maps\n",
    "from astropy_healpix import HEALPix\n",
    "from astropy.coordinates import Galactic, TETE, SkyCoord\n",
    "from astropy import units as u\n",
    "import matplotlib.pyplot as plt\n",
    "%matplotlib inline"
   ]
  },
  {
   "cell_type": "code",
   "execution_count": 2,
   "id": "cb2769f7-04ff-4dca-bfa4-1986091c4d23",
   "metadata": {},
   "outputs": [],
   "source": [
    "NSIDE=64"
   ]
  },
  {
   "cell_type": "markdown",
   "id": "a44aa30f-041f-4aee-89c0-f0bc6e534fd6",
   "metadata": {},
   "source": [
    "First, we load the Galactic Plane survey region priority maps:"
   ]
  },
  {
   "cell_type": "code",
   "execution_count": 3,
   "id": "b04a2e62-5bf3-403d-a160-5c6fb0e62c49",
   "metadata": {},
   "outputs": [],
   "source": [
    "footprint_maps_dir = getenv('FOOTPRINT_MAPS_DIR')\n",
    "filter_order = ['u', 'g', 'r', 'i', 'z', 'y']\n",
    "maps = [] # Map data is stored in filter order\n",
    "\n",
    "for f in filter_order:\n",
    "    m = hp.read_map(path.join(footprint_maps_dir,'GalPlane_priority_map_'+f+'.fits'), dtype=np.float64)\n",
    "    maps.append(m)"
   ]
  },
  {
   "cell_type": "markdown",
   "id": "58fe3e7b-a15f-4257-9064-8848a0a88feb",
   "metadata": {},
   "source": [
    "In these maps, each HEALpixel value represents a priority weighting for that position in the sky, which is normalized across all filters.  The fraction of the priority/HEALpix in a given filter as a function of the total priority for that HEALpix (summed over all filters) gives us an approximate guide to the proportion of the total exposure time that should be allocated to each filter.  "
   ]
  },
  {
   "cell_type": "code",
   "execution_count": 29,
   "id": "24861eb2-4201-41db-806f-d1063e45c4be",
   "metadata": {},
   "outputs": [
    {
     "name": "stderr",
     "output_type": "stream",
     "text": [
      "/var/folders/4z/rk7n9jss74g3shm9z6msmyvh0000gp/T/ipykernel_15593/3977200076.py:8: RuntimeWarning: invalid value encountered in true_divide\n",
      "  fexpt_per_filter_per_pixel[:,i] = maps[i] / coadded_map\n"
     ]
    }
   ],
   "source": [
    "coadded_map = np.zeros(maps[0].shape)\n",
    "for i,f in enumerate(filter_order):\n",
    "    coadded_map += maps[i]\n",
    "\n",
    "fexpt_per_filter_per_pixel = np.zeros([len(maps[0]),len(filter_order)])\n",
    "for i,f in enumerate(filter_order):\n",
    "    valid = coadded_map > 0\n",
    "    fexpt_per_filter_per_pixel[:,i] = maps[i] / coadded_map\n",
    "invalid = np.isnan(fexpt_per_filter_per_pixel)\n",
    "fexpt_per_filter_per_pixel[invalid] = 0.0"
   ]
  },
  {
   "cell_type": "code",
   "execution_count": 30,
   "id": "a5dfcb57-74ee-4f62-b237-32af7aa3ba7e",
   "metadata": {},
   "outputs": [
    {
     "name": "stdout",
     "output_type": "stream",
     "text": [
      "Map of the fraction of the total exposure time to be spent in SDSS-i exposures\n"
     ]
    },
    {
     "data": {
      "image/png": "[encoded data removed]",
      "text/plain": [
       "<Figure size 612x388.8 with 2 Axes>"
      ]
     },
     "metadata": {
      "needs_background": "light"
     },
     "output_type": "display_data"
    }
   ],
   "source": [
    "hp.mollview(fexpt_per_filter_per_pixel[:,3], max=1)\n",
    "print('Map of the fraction of the total exposure time to be spent in SDSS-i exposures')"
   ]
  },
  {
   "cell_type": "markdown",
   "id": "3f140ba8-1e7b-4dec-8947-656b305e94a9",
   "metadata": {},
   "source": [
    "Maps such as the one above can be computed for any given OpSim strategy for comparison. "
   ]
  },
  {
   "cell_type": "markdown",
   "id": "2a414501-9d15-49ba-86a4-dcd997645fc0",
   "metadata": {},
   "source": [
    "For the purposes of Galactic and Magellanic Cloud science however, we are concerned only with the metric values for those pixels in the desired survey region.  Therefore the metric calculates for any OpSim dataSlice the fexpt_per_filter_per_pixel value only for pixels within the desired Galactic Plane survey footprint as defined by the maps above.  The metric returns a single numerical value for ease of handling, which is the fexpt_per_filter_per_pixel summed over all pixels within the desired footprint and over all filters.  This parameter is called fExpT.  "
   ]
  },
  {
   "cell_type": "markdown",
   "id": "dc0b5bf6-c4cc-4954-87d7-dcfaed25158d",
   "metadata": {},
   "source": [
    "Lastly, to complete the metric, we need a normalizing value to use as a guide for the value of fExpT that would be expected if the OpSim represented an ideal survey strategy for galactic science; that is perfect overlap with the survey footprint with the recommended proportions of exposure time spent.  \n",
    "\n",
    "This is estimated simply by calculating fexpt_per_filter_per_pixel from the priority maps above, and summing over all pixels and filters.  "
   ]
  },
  {
   "cell_type": "code",
   "execution_count": null,
   "id": "1f3877ef-63e7-4537-bb00-a9f4acd6dd2d",
   "metadata": {},
   "outputs": [],
   "source": []
  }
 ],
 "metadata": {
  "kernelspec": {
   "display_name": "Python 3 (ipykernel)",
   "language": "python",
   "name": "python3"
  },
  "language_info": {
   "codemirror_mode": {
    "name": "ipython",
    "version": 3
   },
   "file_extension": ".py",
   "mimetype": "text/x-python",
   "name": "python",
   "nbconvert_exporter": "python",
   "pygments_lexer": "ipython3",
   "version": "3.9.7"
  }
 },
 "nbformat": 4,
 "nbformat_minor": 5
}
