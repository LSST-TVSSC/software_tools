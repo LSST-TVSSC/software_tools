{
 "cells": [
  {
   "cell_type": "markdown",
   "id": "67ed8339-8f98-4969-86c0-059abf43d501",
   "metadata": {},
   "source": [
    "## Galactic Plane Survey Footprint\n",
    "\n",
    "To first order, the spatial distribution of many classes of stellar variables follows the distribution of stars in the Milky Way and Magellanic Clouds.  The cadence with which these regions are surveyed during LSST is therefore the single most impactful factor determining how complete a sample of these objects will be discovered and accurately classified.  \n",
    "\n",
    "Many of the White Papers on LSST survey strategy (https://www.lsst.org/submitted-whitepaper-2018) identified specific regions within the Galactic Plane and Magellanic Clouds that are high priority for a range of scientific drivers.  Comparing these regions indicated substantial overlap between them, suggesting that a single common region of interest could be defined, which, if surveyed by Rubin, would address many science cases at once.  \n",
    "\n",
    "Street et al. 2021 https://docushare.lsst.org/docushare/dsweb/Get/Document-37639/Galactic_Plane_Footprint.pdf described a procedure whereby this common region of interest was established by representing all of the survey regions recommended in the separate White Papers as HEALpix maps.  In each case, a numerical priority was assigned to each HEALpix in the map corresponding to whether it lay inside or outside the region of interest to the authors of the White Paper.  A combined TVS/SMWLV Galactic Plane priority map in each filter passband was produced by a weighted sum of the HEALpix maps for each science case.  "
   ]
  },
  {
   "cell_type": "markdown",
   "id": "d969edcb-5372-4f20-b96e-35030e38d6c5",
   "metadata": {},
   "source": [
    "The software to generate the priority maps can be found in:\n",
    "    https://github.com/LSST-TVSSC/software_tools\n",
    "    \n",
    "Specifically:\n",
    "    generate_galplane_priority_maps.py\n",
    "    science_priority_regions.py\n",
    "\n",
    "The priority maps themselves can be found in:\n",
    "    https://github.com/LSST-TVSSC/software_tools/footprint_maps"
   ]
  },
  {
   "cell_type": "code",
   "execution_count": 1,
   "id": "01fd13d0-e2da-46d4-a173-f103acb59517",
   "metadata": {},
   "outputs": [],
   "source": [
    "from os import getenv, path\n",
    "import numpy as np\n",
    "import healpy as hp\n",
    "from healpy.newvisufunc import projview, newprojplot\n",
    "import science_priority_regions\n",
    "import generate_galplane_priority_maps\n",
    "from astropy_healpix import HEALPix\n",
    "from astropy.coordinates import Galactic, TETE, SkyCoord\n",
    "from astropy import units as u\n",
    "import matplotlib.pyplot as plt\n",
    "%matplotlib inline"
   ]
  },
  {
   "cell_type": "markdown",
   "id": "95d38261-7562-4aec-b7eb-c9db40219429",
   "metadata": {},
   "source": [
    "### Tuning the Survey Footprint\n",
    "\n",
    "While the above maps represent an idealized survey footprint for Milky Way and Magellanic Cloud science, it is recognized that they include a large area and that it may not be possible to cover all of it at a uniformly high cadence.  \n",
    "\n",
    "The maps are contructed in such a way that each HEALpix value can be used as a proxy the scientific value of surveying that pixel, meaning that the maps can be used to adjust the survey footprint to the highest-priority areas with suitable selection cuts. \n",
    "\n",
    "Here we use the SDSS-i-band priority map as an example, and illustrate the change in survey footprint when different priority thresholds are applied.  "
   ]
  },
  {
   "cell_type": "code",
   "execution_count": 2,
   "id": "c33e9d12-8d2a-4d2b-8cc1-da0cf5810001",
   "metadata": {},
   "outputs": [],
   "source": [
    "NSIDE = 64\n",
    "footprint_maps_dir = getenv('FOOTPRINT_MAPS_DIR')\n",
    "GP_footprint1 = hp.read_map(path.join(footprint_maps_dir,'maps_no_pencilbeams','GalPlane_priority_map_i.fits'), dtype=np.float64)\n"
   ]
  },
  {
   "cell_type": "code",
   "execution_count": 3,
   "id": "47ee0018-2f62-483d-9dfd-c70a82527f9f",
   "metadata": {},
   "outputs": [],
   "source": [
    "def galPlane_survey_footprint(GP_footprint, healpix_priority_minimum_threshold = 0.25):\n",
    "    galwfd = np.where(GP_footprint >= healpix_priority_minimum_threshold,1,0)\n",
    "    return galwfd"
   ]
  },
  {
   "cell_type": "code",
   "execution_count": 4,
   "id": "bd94ce2d-efef-41b9-982e-910b6be42ea8",
   "metadata": {},
   "outputs": [
    {
     "name": "stdout",
     "output_type": "stream",
     "text": [
      "Figure 1: Galactic Plane Survey Footprint with Minimum Priority=0.25\n"
     ]
    },
    {
     "data": {
      "image/png": "[encoded data removed]",
      "text/plain": [
       "<Figure size 612x388.8 with 2 Axes>"
      ]
     },
     "metadata": {
      "needs_background": "light"
     },
     "output_type": "display_data"
    }
   ],
   "source": [
    "galwfd = galPlane_survey_footprint(GP_footprint1, healpix_priority_minimum_threshold = 0.25)\n",
    "hp.mollview(galwfd, max=1)\n",
    "print('Figure 1: Galactic Plane Survey Footprint with Minimum Priority=0.25')"
   ]
  },
  {
   "cell_type": "code",
   "execution_count": 5,
   "id": "f3f04a32-3423-4237-b394-d3b88b3b45b7",
   "metadata": {},
   "outputs": [
    {
     "name": "stdout",
     "output_type": "stream",
     "text": [
      "Figure 2: Galactic Plane Survey Footprint with Minimum Priority=0.75\n"
     ]
    },
    {
     "data": {
      "image/png": "[encoded data removed]",
      "text/plain": [
       "<Figure size 612x388.8 with 2 Axes>"
      ]
     },
     "metadata": {
      "needs_background": "light"
     },
     "output_type": "display_data"
    }
   ],
   "source": [
    "galwfd = galPlane_survey_footprint(GP_footprint1,healpix_priority_minimum_threshold = 0.75)\n",
    "hp.mollview(galwfd, max=1)\n",
    "print('Figure 2: Galactic Plane Survey Footprint with Minimum Priority=0.75')"
   ]
  },
  {
   "cell_type": "markdown",
   "id": "de609500-5a82-427d-a488-fa110e1f0dda",
   "metadata": {},
   "source": [
    "### Galactic Pencilbeams Fields\n",
    "\n",
    "Selecting only the very highest-priority regions from the map highlights the many science drivers that focus on the Galactic Bulge and central region and the Magellanic Clouds, accurately reflecting many of the arguments presented in the White Papers.  \n",
    "\n",
    "However, applying this simple selection threshold alone has a key flaw, as it does not take into account the need to compare populations between different regions of the Galaxy.  \n",
    "\n",
    "Stellar populations varying throughout the Galaxy as a function of trends in metallicity, age and dynamics.  The distributions of all forms of variable stars, as well as the occurrance of transient phenomena such as microlensing by stars, planets and black holes, reflect these trends.  One of LSST's most distinctive capabilities will be to survey both over large regions and to faint limiting magnitudes, thereby enabling comparative studies of stellar populations in different evolutionary environments.  Two of Rubin's primary science goals - properly mapping the Milky Way, and exploring the transient optical sky - depend on ensuring adequate coverage of a range of stellar environments.  \n",
    "\n",
    "If scheduling pressures in LSST were to result in Rubin Observatory surveying just the very-high-priority regions in Fig. 2, these comparative studies would be severely compromised by the limited survey footprint outside the Bulge and Magellanic Clouds.  \n",
    "\n",
    "To mitigate this concern, without requiring Rubin to survey the entire Galactic Plane at high cadence, we propose to add to the priority map a sequence of pencilbeam fields, each representing a single pointing of LSSTCam.  \n",
    "\n",
    "By surveying a number of Rubin field pointings, all centered at Galactic Latitude ~0deg but distributed in Galactic Longitude between -85 to +85deg, we can ensure that we sample a range of stellar environments.  With the same observations, we also sample different lines of sight through the Galaxy, allowing us to directly compare their the populations of lenses, as well as a variety of variable stars, thus mapping Galactic structure.  \n",
    "\n",
    "The selection of the pencilbeam fields is described in the notebook galactic_pencilbeams.ipynb. \n",
    "\n",
    "These pencilbeam fields have been added to the galactic priority maps.  To illustrate this, we replot Fig.2 using the same selection priority cut with the amended maps. "
   ]
  },
  {
   "cell_type": "code",
   "execution_count": 8,
   "id": "de722c2e-d594-467e-b473-e55f113ede06",
   "metadata": {},
   "outputs": [
    {
     "name": "stdout",
     "output_type": "stream",
     "text": [
      "Figure 3: Galactic Plane Survey Footprint, with pencilbeams, Minimum Priority=0.75\n"
     ]
    },
    {
     "data": {
      "image/png": "[encoded data removed]",
      "text/plain": [
       "<Figure size 612x388.8 with 2 Axes>"
      ]
     },
     "metadata": {
      "needs_background": "light"
     },
     "output_type": "display_data"
    }
   ],
   "source": [
    "GP_footprint2 = hp.read_map(path.join(footprint_maps_dir,'GalPlane_priority_map_i.fits'), dtype=np.float64)\n",
    "galwfd = galPlane_survey_footprint(GP_footprint2,healpix_priority_minimum_threshold = 0.75)\n",
    "hp.mollview(galwfd, max=1)\n",
    "print('Figure 3: Galactic Plane Survey Footprint, with pencilbeams, Minimum Priority=0.75')"
   ]
  },
  {
   "cell_type": "code",
   "execution_count": null,
   "id": "ef44e61a-767a-43a7-9c2c-252542522828",
   "metadata": {},
   "outputs": [],
   "source": []
  }
 ],
 "metadata": {
  "kernelspec": {
   "display_name": "Python 3 (ipykernel)",
   "language": "python",
   "name": "python3"
  },
  "language_info": {
   "codemirror_mode": {
    "name": "ipython",
    "version": 3
   },
   "file_extension": ".py",
   "mimetype": "text/x-python",
   "name": "python",
   "nbconvert_exporter": "python",
   "pygments_lexer": "ipython3",
   "version": "3.9.7"
  }
 },
 "nbformat": 4,
 "nbformat_minor": 5
}
