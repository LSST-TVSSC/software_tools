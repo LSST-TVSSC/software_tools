{
 "cells": [
  {
   "cell_type": "markdown",
   "id": "1e00e110-ff1c-43de-9d23-a78b0e80f835",
   "metadata": {},
   "source": [
    "## Variability Color Measurements"
   ]
  },
  {
   "cell_type": "markdown",
   "id": "67dbe259-30a6-490a-a043-2a02efaf71f4",
   "metadata": {},
   "source": [
    "Multi-band timeseries photometry is important to accurately classify many types of variables and a valuable way to distinguish them from transients such as microlensing.  Over a longer baseline, the timeseries color photometry is key to properly characterizing the variability as well."
   ]
  },
  {
   "cell_type": "markdown",
   "id": "0f1b308a-4727-4f55-99a9-65f9c33f1a38",
   "metadata": {},
   "source": [
    "Although different filters are important in the study of different variables, SDSS-g, r, i and z are the most critical to the widest number of variable types across the Galactic Plane and Magellanic Clouds.  This is reflected in the maps of sky region priority.  We stress however, the value of obtaining regular (if lower cadence) observations in u- and y-bands.  "
   ]
  },
  {
   "cell_type": "markdown",
   "id": "503eed4b-71c7-4fb0-888b-b65d6ef9bf97",
   "metadata": {},
   "source": [
    "### Color Variability Metric\n",
    "To gauge how well a given OpSim delivers timeseries color measurements, we propose a metric that calculates the median time gap between sequential observations in two given filters.  \n",
    "\n",
    "We note the Color Indices Sampling metric proposed by Maria Isabel Carnerero and Claudia M. Raiteri which is well suited for this purpose\n",
    "\n",
    "XXX Status of metric code? XXX"
   ]
  },
  {
   "cell_type": "markdown",
   "id": "38e4323b-72ad-4513-b6f1-b307c2b86d8a",
   "metadata": {},
   "source": [
    "### Evaluating the metric for variable categories"
   ]
  },
  {
   "cell_type": "markdown",
   "id": "2986f56e-f63f-4918-9586-7e43b21219c7",
   "metadata": {},
   "source": [
    "We consider Galactic variables categorized according to $\\tau_{var}$ into the four groups as described in the VariabilityTimeSampling notebook:\n",
    "* $<$10 days: including exoplanet & White Dwarf transits, stellar flares, short period stellar binaries, pulsating stars (inc. RR Lyrae, Cepheids), some point-source microlensing (e.g., by free-floating planets, bound planet anomalies, brown dwarfs), most binary microlensing, variability in young stars, short-term accretion variability\n",
    "* 10-100 days: includes point-source microlensing by galactic stellar-mass lenses (but not binary-lens anomalies), intermediate stellar pulsation periods, disk instability in Cataclysmic Variables, novae\n",
    "* 100-365 days: includes microlensing by black holes, long-timescale pulsations, \n",
    "* $>$365 days: includes long-period variables, e.g. Miras"
   ]
  },
  {
   "cell_type": "markdown",
   "id": "fa6b4bca-dabf-4ab9-9a32-a7fbd41c7f0e",
   "metadata": {},
   "source": [
    "With the corresponding categories of $\\tau_{obs}$ referring to the necessary frequency of observations in each case:\n",
    "* $\\tau_{var} < $10 days, $\\tau_{obs}$ = 2days\n",
    "* 10 $<$ $\\tau_{var} < $100 days, $\\tau_{obs}$ = 2 - 20 days\n",
    "* 100 $<$ $\\tau_{var} < $365 days, $\\tau_{obs}$ = 20 - 73 days\n",
    "* $\\tau_{var} > $365 days, $\\tau_{obs}$ = 73days"
   ]
  },
  {
   "cell_type": "markdown",
   "id": "8fd2a02f-6510-4d78-9838-45f784856b1a",
   "metadata": {},
   "source": [
    "Since almost all types require color measurements to be made as a function of time, $\\tau_{obs}$ can be used as an approximate indicator of the maximum acceptable gap between sequencial observations in different filters, and this can be applied to both transient and periodic variable classes. \n",
    "\n",
    "Observations made at greater intervals than this are likely to still be valuable for quantifying the morphology of the lightcurve but decline in usefulness as valid color information.  To take this into account we combine the ColorIndicesSampling metric with calcVisitIntervalMetric from the VariabilityTimeSampling notebook.  "
   ]
  },
  {
   "cell_type": "code",
   "execution_count": null,
   "id": "457c8b20-1332-43da-a6d3-9bca0b1608d4",
   "metadata": {},
   "outputs": [],
   "source": []
  }
 ],
 "metadata": {
  "kernelspec": {
   "display_name": "Python 3 (ipykernel)",
   "language": "python",
   "name": "python3"
  },
  "language_info": {
   "codemirror_mode": {
    "name": "ipython",
    "version": 3
   },
   "file_extension": ".py",
   "mimetype": "text/x-python",
   "name": "python",
   "nbconvert_exporter": "python",
   "pygments_lexer": "ipython3",
   "version": "3.9.6"
  }
 },
 "nbformat": 4,
 "nbformat_minor": 5
}
