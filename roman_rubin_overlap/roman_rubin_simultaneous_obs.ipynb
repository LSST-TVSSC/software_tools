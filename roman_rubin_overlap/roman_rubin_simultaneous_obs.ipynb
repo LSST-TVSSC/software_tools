{
 "cells": [
  {
   "cell_type": "markdown",
   "id": "f4d1c149",
   "metadata": {},
   "source": [
    "# Roman/Rubin Simultaneous Observations\n",
    "\n",
    "The purpose of this notebook is to explore the feasibilty of simultaneous observations from both the Roman Space Telescope and the Rubin Observatory. "
   ]
  },
  {
   "cell_type": "code",
   "execution_count": 1,
   "id": "b34824da",
   "metadata": {},
   "outputs": [],
   "source": [
    "from os import path\n",
    "from roman_mission import RomanGalBulgeSurvey\n",
    "from astropy.time import Time, TimeDelta\n",
    "from astropy.coordinates import SkyCoord\n",
    "import astropy.units as u\n",
    "import numpy as np\n",
    "import healpy as hp\n",
    "import rubin_visibility\n",
    "import rubin_sim.maf as maf\n",
    "from rubin_sim.utils import (\n",
    "    hpid2_ra_dec,\n",
    "    angular_separation,\n",
    ")\n",
    "import h5py\n",
    "import matplotlib.pyplot as plt\n",
    "import matplotlib.dates as mdates\n",
    "from scipy import interpolate\n",
    "from datetime import datetime"
   ]
  },
  {
   "cell_type": "code",
   "execution_count": 2,
   "id": "aba4ed73",
   "metadata": {},
   "outputs": [],
   "source": [
    "NSIDE=32"
   ]
  },
  {
   "cell_type": "markdown",
   "id": "f7719aed",
   "metadata": {},
   "source": [
    "At the time of writing, nominal dates are available for the Roman Galactic Bulge Time Domain Survey (RGBTDS), drawn from [Penny et al. 2019](https://ui.adsabs.harvard.edu/abs/2019ApJS..241....3P).  So we load these as fixed dates for the time being:"
   ]
  },
  {
   "cell_type": "code",
   "execution_count": 3,
   "id": "d6887fd7",
   "metadata": {},
   "outputs": [
    {
     "name": "stdout",
     "output_type": "stream",
     "text": [
      "Dates of nominal RGBTDS seasons: \n",
      "{'start': <Time object: scale='utc' format='isot' value=2026-02-12T00:00:00.000>, 'end': <Time object: scale='utc' format='isot' value=2026-04-24T00:00:00.000>}\n",
      "{'start': <Time object: scale='utc' format='isot' value=2026-09-19T00:00:00.000>, 'end': <Time object: scale='utc' format='isot' value=2026-10-29T00:00:00.000>}\n",
      "{'start': <Time object: scale='utc' format='isot' value=2027-02-12T00:00:00.000>, 'end': <Time object: scale='utc' format='isot' value=2027-04-24T00:00:00.000>}\n",
      "{'start': <Time object: scale='utc' format='isot' value=2027-09-19T00:00:00.000>, 'end': <Time object: scale='utc' format='isot' value=2027-10-29T00:00:00.000>}\n",
      "{'start': <Time object: scale='utc' format='isot' value=2028-02-12T00:00:00.000>, 'end': <Time object: scale='utc' format='isot' value=2028-04-24T00:00:00.000>}\n",
      "{'start': <Time object: scale='utc' format='isot' value=2028-09-19T00:00:00.000>, 'end': <Time object: scale='utc' format='isot' value=2028-10-29T00:00:00.000>}\n"
     ]
    },
    {
     "name": "stderr",
     "output_type": "stream",
     "text": [
      "/Users/rstreet1/opt/miniconda3/envs/rubin/lib/python3.9/site-packages/erfa/core.py:154: ErfaWarning: ERFA function \"dtf2d\" yielded 1 of \"dubious year (Note 6)\"\n",
      "  warnings.warn('ERFA function \"{}\" yielded {}'.format(func_name, wmsg),\n",
      "/Users/rstreet1/opt/miniconda3/envs/rubin/lib/python3.9/site-packages/erfa/core.py:154: ErfaWarning: ERFA function \"d2dtf\" yielded 1 of \"dubious year (Note 5)\"\n",
      "  warnings.warn('ERFA function \"{}\" yielded {}'.format(func_name, wmsg),\n"
     ]
    }
   ],
   "source": [
    "roman_survey = RomanGalBulgeSurvey()\n",
    "print('Dates of nominal RGBTDS seasons: ')\n",
    "for season in roman_survey.seasons:\n",
    "    print(season)"
   ]
  },
  {
   "cell_type": "markdown",
   "id": "4295adb8",
   "metadata": {},
   "source": [
    "Rubin's annual visibility for all points on the sky has been pre-calcuated in the notebook [Rubin Visibility Calculations](https://github.com/LSST-TVSSC/software_tools/blob/main/roman_rubin_overlap/rubin_visibility_calculations.ipynb), so we load that data.  This provides the number of hours each HEALpixel on the sky can be observed for dates throughout the year from the Rubin site."
   ]
  },
  {
   "cell_type": "code",
   "execution_count": 4,
   "id": "d7291191",
   "metadata": {},
   "outputs": [],
   "source": [
    "data_file = '/Users/rstreet1/software/LSST-TVS_software_tools/roman_rubin_overlap/rubin_visibility.hdf5'\n",
    "\n",
    "with h5py.File(data_file, \"r\") as f:\n",
    "    dset = f['healpix']\n",
    "    healpix = np.array(dset[:])\n",
    "    \n",
    "    dset = f['decimalyear']\n",
    "    dates = np.array(dset[:])\n",
    "    \n",
    "    dset = f['visibility_data']\n",
    "    rubin_visibility = np.array(dset[:])\n",
    "    \n",
    "    f.close()"
   ]
  },
  {
   "cell_type": "markdown",
   "id": "29e94573",
   "metadata": {},
   "source": [
    "For the purposes of the RGBTDS, we care about a few HEALpix in the central Bulge, so let's identify which HEALpixels those are."
   ]
  },
  {
   "cell_type": "code",
   "execution_count": 5,
   "id": "3ce94b8d",
   "metadata": {},
   "outputs": [],
   "source": [
    "# Location of Roman GBTDS field center\n",
    "phi = np.deg2rad(roman_survey.bulge_field.ra.deg)\n",
    "theta = (np.pi/2.0) - np.deg2rad(roman_survey.bulge_field.dec.deg)\n",
    "xyz = hp.ang2vec(theta, phi)\n",
    "\n",
    "# Total area expected is ~2sq.deg.  It won't be a round region, but for the sake of estimation, let's assume that it is\n",
    "radius = np.deg2rad(np.sqrt(2.0/np.pi))\n",
    "\n",
    "# Select the indices of HEALpixels within this region\n",
    "bulge_pixels = hp.query_disc(NSIDE, xyz, radius)\n",
    "bulge_pixels\n",
    "\n",
    "# Since this is a single pixel at this resolution, handle it as an index to make the code simpler later on\n",
    "bulge_pixels = bulge_pixels[0]"
   ]
  },
  {
   "cell_type": "markdown",
   "id": "7350bfa7",
   "metadata": {},
   "source": [
    "Since visibility calculations are quite computationally intensive, the pre-calculated data is fairly low resolution, both in time and space, which leads to some artifacts.  Here we can smooth this out, and interpolate. "
   ]
  },
  {
   "cell_type": "code",
   "execution_count": 6,
   "id": "74ec46cd",
   "metadata": {},
   "outputs": [],
   "source": [
    "from scipy.signal import savgol_filter\n",
    "\n",
    "idx = np.where(dates <= 100)[0]\n",
    "bulge_rise = rubin_visibility[bulge_pixels,idx[0:-1:3]]\n",
    "dates_rise = dates[idx[0:-1:3]]\n",
    "\n",
    "idx1 = np.where(dates > 100)[0]\n",
    "idx2 = np.where(dates <= 250)[0]\n",
    "idx = list(set(idx1).intersection(set(idx2)))\n",
    "bulge_peak = rubin_visibility[bulge_pixels,idx]\n",
    "dates_peak = dates[idx]\n",
    "\n",
    "idx = np.where(dates > 250)[0]\n",
    "bulge_fall = rubin_visibility[bulge_pixels,idx[0:-1:3]]\n",
    "dates_fall = dates[idx[0:-1:3]]\n",
    "\n",
    "bulge_visibility = np.concatenate((bulge_rise, bulge_peak, bulge_fall))\n",
    "dates_visible = np.concatenate((dates_rise, dates_peak, dates_fall))\n",
    "\n",
    "#bulge_visibility_samp = savgol_filter(bulge_visibility, 13, 5)  # window size 13, polynomial order 5\n",
    "bulge_visibility_samp = bulge_visibility\n",
    "dates_samp = dates_visible"
   ]
  },
  {
   "cell_type": "markdown",
   "id": "774064cd",
   "metadata": {},
   "source": [
    "We can now use the pre-calculated visibility data to explore Rubin's visibility of the RGBTDS survey field throughout the year.  And we can overplot Roman's visibility of the same field."
   ]
  },
  {
   "cell_type": "code",
   "execution_count": 12,
   "id": "8f4f6ef6",
   "metadata": {},
   "outputs": [
    {
     "name": "stderr",
     "output_type": "stream",
     "text": [
      "/Users/rstreet1/opt/miniconda3/envs/rubin/lib/python3.9/site-packages/erfa/core.py:154: ErfaWarning: ERFA function \"dtf2d\" yielded 1 of \"dubious year (Note 6)\"\n",
      "  warnings.warn('ERFA function \"{}\" yielded {}'.format(func_name, wmsg),\n",
      "/Users/rstreet1/opt/miniconda3/envs/rubin/lib/python3.9/site-packages/erfa/core.py:154: ErfaWarning: ERFA function \"utctai\" yielded 1 of \"dubious year (Note 3)\"\n",
      "  warnings.warn('ERFA function \"{}\" yielded {}'.format(func_name, wmsg),\n",
      "/Users/rstreet1/opt/miniconda3/envs/rubin/lib/python3.9/site-packages/erfa/core.py:154: ErfaWarning: ERFA function \"d2dtf\" yielded 1 of \"dubious year (Note 5)\"\n",
      "  warnings.warn('ERFA function \"{}\" yielded {}'.format(func_name, wmsg),\n",
      "/var/folders/4z/rk7n9jss74g3shm9z6msmyvh0000gp/T/ipykernel_86170/3404763941.py:39: UserWarning: FixedFormatter should only be used together with FixedLocator\n",
      "  ax.set_xticklabels(xdates, rotation=45.0)\n"
     ]
    }
   ],
   "source": [
    "#bulge_visibility_samp = rubin_visibility_samp[bulge_pixels,:]\n",
    "rubin_vis_func = interpolate.interp1d(dates_samp, bulge_visibility_samp)\n",
    "\n",
    "ts2 = np.linspace(dates_samp.min(), dates_samp.max(), 365)\n",
    "y = rubin_vis_func(ts2)\n",
    "\n",
    "fontsize = 25\n",
    "fig, ax = plt.subplots(1,1,figsize=(10,10))\n",
    "plt.plot(dates_samp, bulge_visibility_samp, 'ro')\n",
    "plt.plot(ts2, y, 'k-')\n",
    "(xmin, xmax, ymin, ymax) = plt.axis()\n",
    "for season in roman_survey.seasons:\n",
    "    int_year = int(season['start'].decimalyear)\n",
    "    day_start = season['start'].decimalyear - int_year\n",
    "    day_end = season['end'].decimalyear - int_year\n",
    "    x = np.array([day_start, day_end])\n",
    "    y1 = np.array([ymin, ymin])\n",
    "    y2 = np.array([ymax, ymax])\n",
    "    ax.fill_between(x, y1, y2, alpha=0.2, color='C0')\n",
    "    \n",
    "plt.xlabel('Fractional year', fontsize=fontsize)\n",
    "plt.ylabel('Hours visible per day', fontsize=fontsize)\n",
    "plt.title('Rubin visibility of the Roman GBTDS field', fontsize=fontsize)\n",
    "ax.xaxis.set_tick_params(labelsize=fontsize)\n",
    "ax.yaxis.set_tick_params(labelsize=fontsize)\n",
    "\n",
    "plt.axis([0.0,1.0,0.0, ymax])\n",
    "\n",
    "#myFmt = mdates.DateFormatter('%Y-%m-%d')\n",
    "#ax.xaxis.set_major_formatter(myFmt)\n",
    "xticks =  ax.get_xticks()\n",
    "xdates = []\n",
    "for t in xticks:\n",
    "    t2 = Time((2026 + t), format='decimalyear')\n",
    "    t2.format = 'iso'\n",
    "    t2 = datetime.strptime(str(t2).split()[0], '%Y-%m-%d')\n",
    "    xdates.append(t2.strftime(\"%B %d\"))\n",
    "\n",
    "ax.set_xticklabels(xdates, rotation=45.0)\n",
    "plt.tight_layout()\n",
    "\n",
    "display = False\n",
    "if display:\n",
    "    plt.show()\n",
    "else:\n",
    "    plt.savefig('/Users/rstreet1/Roman/CoreSurveyWhitePaper/roman_rubin_annual_visibility.png')\n",
    "    plt.close(1)"
   ]
  },
  {
   "cell_type": "code",
   "execution_count": null,
   "id": "91842d79",
   "metadata": {},
   "outputs": [],
   "source": []
  }
 ],
 "metadata": {
  "kernelspec": {
   "display_name": "Python 3 (ipykernel)",
   "language": "python",
   "name": "python3"
  },
  "language_info": {
   "codemirror_mode": {
    "name": "ipython",
    "version": 3
   },
   "file_extension": ".py",
   "mimetype": "text/x-python",
   "name": "python",
   "nbconvert_exporter": "python",
   "pygments_lexer": "ipython3",
   "version": "3.9.7"
  }
 },
 "nbformat": 4,
 "nbformat_minor": 5
}
