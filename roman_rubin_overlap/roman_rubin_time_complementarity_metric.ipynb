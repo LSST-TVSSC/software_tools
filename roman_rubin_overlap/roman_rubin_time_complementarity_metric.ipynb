{
 "cells": [
  {
   "cell_type": "markdown",
   "id": "3543cbb6",
   "metadata": {},
   "source": [
    "# Roman/Rubin Observing Season Complementarity\n",
    "\n",
    "The near-IR Nancy Grace Roman Space Telescope and the optical Vera C. Rubin Observatory both have the capacity to deliver deep limiting magnitude, high spatial resolution, timeseries photometry at complementary wavelengths.  This notebook explores how coordinating the observing schedules of these facility could be scientifically beneficial and outlines a metric for evaluating and optimizing complementary scheduling.  \n",
    "\n",
    "This notebook specifically explores the scheduling of the Roman Galactic Bulge Time Domain Survey, but the metric is designed such that the same principle could be applied to other survey regions as well.  "
   ]
  },
  {
   "cell_type": "code",
   "execution_count": 8,
   "id": "117d0f54",
   "metadata": {},
   "outputs": [],
   "source": [
    "from os import path\n",
    "from roman_mission import RomanGalBulgeSurvey\n",
    "from astropy.time import Time, TimeDelta\n",
    "from astropy.coordinates import SkyCoord\n",
    "import astropy.units as u\n",
    "import numpy as np\n",
    "import rubin_visibility\n",
    "import rubin_sim.maf as maf\n",
    "import healpixel_functions"
   ]
  },
  {
   "cell_type": "markdown",
   "id": "b13ea168",
   "metadata": {},
   "source": [
    "## Roman Galactic Bulge Time Domain Survey (RGBTDS)\n",
    "\n",
    "Roman is expected to observe the Galactic Bulge in seasons of approximately 60-70d long.  Due to pointing constraints of this telescope, these seasons will occur between February to April and August to October.  A total of ~6 seasons are anticipated, although the exact scheduling of these seasons is still to be determined.  Assuming the facility is launched on schedule in 2025 the first such season could take place, post-launch testing phase, in 2026.  \n",
    "\n",
    "For the purposes of exploration, nominal dates for the RGBTDS seasons are defined with the following function.  \n",
    "(Note: this produces warnings because future leap seconds are undefined; this does not significantly impact these calculations)."
   ]
  },
  {
   "cell_type": "code",
   "execution_count": 3,
   "id": "99aa37c1",
   "metadata": {},
   "outputs": [
    {
     "name": "stdout",
     "output_type": "stream",
     "text": [
      "Dates of nominal RGBTDS seasons: \n",
      "{'start': <Time object: scale='utc' format='isot' value=2026-02-12T00:00:00.000>, 'end': <Time object: scale='utc' format='isot' value=2026-04-24T00:00:00.000>}\n",
      "{'start': <Time object: scale='utc' format='isot' value=2026-09-19T00:00:00.000>, 'end': <Time object: scale='utc' format='isot' value=2026-10-29T00:00:00.000>}\n",
      "{'start': <Time object: scale='utc' format='isot' value=2027-02-12T00:00:00.000>, 'end': <Time object: scale='utc' format='isot' value=2027-04-24T00:00:00.000>}\n",
      "{'start': <Time object: scale='utc' format='isot' value=2027-09-19T00:00:00.000>, 'end': <Time object: scale='utc' format='isot' value=2027-10-29T00:00:00.000>}\n",
      "{'start': <Time object: scale='utc' format='isot' value=2028-02-12T00:00:00.000>, 'end': <Time object: scale='utc' format='isot' value=2028-04-24T00:00:00.000>}\n",
      "{'start': <Time object: scale='utc' format='isot' value=2028-09-19T00:00:00.000>, 'end': <Time object: scale='utc' format='isot' value=2028-10-29T00:00:00.000>}\n",
      "Dates of season gaps:\n",
      "{'start': <Time object: scale='utc' format='isot' value=2026-04-24T00:00:00.000>, 'end': <Time object: scale='utc' format='isot' value=2026-09-19T00:00:00.000>}\n",
      "{'start': <Time object: scale='utc' format='isot' value=2026-10-29T00:00:00.000>, 'end': <Time object: scale='utc' format='isot' value=2027-02-12T00:00:00.000>}\n",
      "{'start': <Time object: scale='utc' format='isot' value=2027-04-24T00:00:00.000>, 'end': <Time object: scale='utc' format='isot' value=2027-09-19T00:00:00.000>}\n",
      "{'start': <Time object: scale='utc' format='isot' value=2027-10-29T00:00:00.000>, 'end': <Time object: scale='utc' format='isot' value=2028-02-12T00:00:00.000>}\n",
      "{'start': <Time object: scale='utc' format='isot' value=2028-04-24T00:00:00.000>, 'end': <Time object: scale='utc' format='isot' value=2028-09-19T00:00:00.000>}\n"
     ]
    }
   ],
   "source": [
    "roman_survey = RomanGalBulgeSurvey()\n",
    "print('Dates of nominal RGBTDS seasons: ')\n",
    "for season in roman_survey.seasons:\n",
    "    print(season)\n",
    "print('Dates of season gaps:')\n",
    "for gap in roman_survey.season_gaps:\n",
    "    print(gap)"
   ]
  },
  {
   "cell_type": "markdown",
   "id": "08f5ba4e",
   "metadata": {},
   "source": [
    "## Rubin Observatory\n",
    "\n",
    "Rubin Observatory is expected to start science operations in mid-2025 [see https://www.lsst.org/about/project-status], which for the sake of these calculations we take to be July 2025.  It will then spend 10 yrs conducting the Legacy Survey of Space and Time (LSST), which will survey the whole Southern Sky in 6 Sloan filters.  The exact cadence with which different areas of the survey footprint will be surveyed is a work in progress, combining many different science goals.  Many simulations of Rubin operations (\"OpSimS\") have been conducted exploring alternative strategies, and the current nominal strategy is described by opsim baseline_3.0.  \n",
    "\n",
    "For our purposes, the important aspect of this opsim is that it includes timeseries observations of the RGBTDS footprint.  \n",
    "\n",
    "The timestamps of the observations realized in any given strategy can be extracted from the opsim database using [Rubin's Metric Analysis Framework](https://www.lsst.org/scientists/simulations/maf) (MAF).  "
   ]
  },
  {
   "cell_type": "markdown",
   "id": "95c796c3",
   "metadata": {},
   "source": [
    "## Inter-season Observations Metric\n",
    "\n",
    "There will typically be gaps between sequential seasons of Roman observations of the Bulge.  These gaps will be at least several months long and potentially may exceed 1yr.  This means that the lightcurves of transient phenomena, including microlensing, will be partially sampled, in cases where the peak of the event occurs close to a season boundary.  This is particularly important for long-baseline events, such as those caused by black hole lenses, since regular sampling of the lightcurves is important to constrain parameters such as the microlensing parallax.  "
   ]
  },
  {
   "cell_type": "markdown",
   "id": "44a4df2f",
   "metadata": {},
   "source": [
    "The long baseline of LSST means that it could provide regular, if lower cadence, photometry of stars within the RGBTDS footprint during the inter-season gaps.  "
   ]
  },
  {
   "cell_type": "markdown",
   "id": "58ef6c1b",
   "metadata": {},
   "source": [
    "The following metric is designed to run within the Rubin Observatory's MAF framework.  "
   ]
  },
  {
   "cell_type": "code",
   "execution_count": 63,
   "id": "c3640d23",
   "metadata": {},
   "outputs": [],
   "source": [
    "class RomanRubinInterSeasonObsMetric(maf.metrics.BaseMetric):\n",
    "    \"\"\"Metric to evaluate whether LSST will provide observations during the \n",
    "    inter-season gaps in the Roman Galactic Bulge Time Domain Survey (RGBTDS).\n",
    "    \n",
    "    This metric calculates the median interval between sequential Rubin \n",
    "    observations in any filter, for all dates within the RGBTDS season gaps.  \n",
    "    A signal-to-noise selection cut is applied to include only high limiting \n",
    "    magnitude observations.  \n",
    "    \n",
    "    The metric value returned represents the mean of this statistic over all season gaps. \n",
    "    \"\"\"\n",
    "    \n",
    "    def __init__(self, \n",
    "                 time_col='observationStartMJD',\n",
    "                 ra_col='fieldRA', \n",
    "                 dec_col='fieldDec', \n",
    "                 mag_cut=None,\n",
    "                 nside=64,\n",
    "                 metricName='RomanRubinInterSeasonObsMetric',\n",
    "                 m5Col='fiveSigmaDepth',\n",
    "                 **kwargs):\n",
    "        \n",
    "        # Store the column names of OpSim data columns for later use. \n",
    "        # Note a magnitude cut is applied to ensure that only high S/N observations are included.  \n",
    "        # Although this is filter bandpass dependant, it simplifies the code considerably to consider \n",
    "        # a minimum value across all filters, with little loss of accuracy.\n",
    "        self.ra_col = ra_col\n",
    "        self.dec_col = dec_col\n",
    "        self.mjdCol = time_col\n",
    "        self.m5Col = m5Col\n",
    "        self.mag_cut = 22.7\n",
    "        self.nside = nside\n",
    "        col_list = [self.ra_col, self.dec_col, self.mjdCol, self.m5Col]\n",
    "        \n",
    "        # Load information on the nominal RGBTDS observing seasons and field location\n",
    "        self.roman_survey = RomanGalBulgeSurvey()\n",
    "        \n",
    "        super(RomanRubinInterSeasonObsMetric, self).__init__(col=col_list, metricName=metricName)\n",
    "    \n",
    "    def run(self, dataSlice, slicePoint):\n",
    "        \n",
    "        # Most metrics are designed to be run using a HEALpixSlicer, i.e. calculated for all points on the sky.\n",
    "        # However, the RGBTDS footprint is entirely contained within a single HEALpixel with NSIDE=64.  \n",
    "        # So we only proceed with this calculation if the current slicePoint contains the RGBTDS survey field. \n",
    "        # A given slicePoint contains the parameters of a particular slice, which for a HEALpixSlicer \n",
    "        # includes the specific HEALpixel ID, RA and Dec\n",
    "        bulge_hp = healpixel_functions.skycoord_to_HPindex(self.roman_survey.bulge_field, self.nside)[0]\n",
    "        if bulge_hp != slicePoint['sid']:\n",
    "            metric = 0.0\n",
    "        \n",
    "        else:\n",
    "            # For all sky pointings provided in the dataSlice, calculate the number of hours per night\n",
    "            # for which Rubin can observe that sky pointing for dates between the start and end \n",
    "            # of the gaps between RGBTDS observing seasons\n",
    "            dt = TimeDelta(1, format='jd', scale=None)\n",
    "            metric = []\n",
    "            for gap in self.roman_survey.season_gaps:\n",
    "                \n",
    "                # Get array of dates within the season gap, at intervals of 1 night\n",
    "                deltagap = gap['end'] - gap['start']\n",
    "                ndates = np.ceil((deltagap/dt).value)\n",
    "                dates = gap['start'] + dt * np.arange(0, ndates, 1)\n",
    "\n",
    "                # Fetch the timestamps of high S/N Rubin observations that occur within the Roman data gap\n",
    "                # OpSim JDs are stored as MJDs, so we adjust the gap start/end dates accordingly \n",
    "                tobs_ordered = dataSlice[self.mjdCol]\n",
    "                tobs_ordered.sort()\n",
    "                idx1 = np.where(tobs_ordered >= (gap['start'].jd - 2400000.0))[0]\n",
    "                idx2 = np.where(tobs_ordered <= (gap['end'].jd - 2400000.0))[0]\n",
    "                idx3 = np.where(dataSlice[self.m5Col] >= self.mag_cut)[0]\n",
    "                idx = set(idx1).intersection(set(idx2))\n",
    "                gap_obs_index = list(idx.intersection(set(idx3)))\n",
    "                tobs_ordered_gap = tobs_ordered[gap_obs_index]\n",
    "                \n",
    "                # If no observations occur within the gap, we set the metric value to the \n",
    "                # length of the gap\n",
    "                if len(gap_obs_index) == 0:\n",
    "                    metric.append(gap['end'].jd - gap['start'].jd)\n",
    "                else:\n",
    "                    \n",
    "                # Calculate the median interval between sequential Rubin observations in any filter\n",
    "                # in the Roman season gap:\n",
    "                    delta_tobs = tobs_ordered_gap[1:] - tobs_ordered_gap[0:-1]\n",
    "                    metric.append(np.median(delta_tobs))\n",
    "            \n",
    "            # Take mean of the metric over all season gaps:\n",
    "            metric = np.median(np.array(metric))\n",
    "\n",
    "        return metric\n",
    "    "
   ]
  },
  {
   "cell_type": "markdown",
   "id": "750476dd",
   "metadata": {},
   "source": [
    "As an example, we can apply this metric to a simulation of Rubin's current baseline survey strategy, known as baseline_v3.0.  "
   ]
  },
  {
   "cell_type": "code",
   "execution_count": 64,
   "id": "d499c13b",
   "metadata": {},
   "outputs": [],
   "source": [
    "opsim_db_file = '/Users/rstreet1/rubin_sim_data/sim_baseline/baseline_v3.0_10yrs.db'\n",
    "runName = path.split(opsim_db_file)[-1].replace('.db', '')\n",
    "\n",
    "# Load the OpSim database\n",
    "opsim_db = maf.OpsimDatabase(opsim_db_file)"
   ]
  },
  {
   "cell_type": "markdown",
   "id": "f0c0e502",
   "metadata": {},
   "source": [
    "Run the metric calculations for all HEALpixels"
   ]
  },
  {
   "cell_type": "code",
   "execution_count": 65,
   "id": "716db37b",
   "metadata": {},
   "outputs": [
    {
     "name": "stdout",
     "output_type": "stream",
     "text": [
      "Healpix slicer using NSIDE=64, approximate resolution 54.967783 arcminutes\n",
      "Querying table None with constraint fiveSigmaDepth > 21.5 for columns ['rotSkyPos', 'fieldRA', 'fiveSigmaDepth', 'fieldDec', 'observationStartMJD']\n",
      "Found 2038359 visits\n",
      "Running:  ['baseline_v3_0_10yrs_RomanRubinInterSeasonObsMetric_fiveSigmaDepth_gt_21_5_HEAL']\n",
      "Completed metric generation.\n",
      "Running reduce methods.\n",
      "Running summary statistics.\n",
      "Completed.\n"
     ]
    }
   ],
   "source": [
    "bundleList = []\n",
    "metric1 = RomanRubinInterSeasonObsMetric()\n",
    "constraint = 'fiveSigmaDepth > 21.5'\n",
    "slicer = maf.slicers.HealpixSlicer(nside=64, useCache=False)\n",
    "plotDict = {'colorMax': 950}\n",
    "bundleList.append(maf.MetricBundle(metric1, slicer, constraint, runName=runName, plotDict=plotDict))\n",
    "bundleDict = maf.metricBundles.makeBundlesDictFromList(bundleList)\n",
    "bundleGroup = maf.MetricBundleGroup(bundleDict, opsim_db, outDir='metric_results', resultsDb=None)\n",
    "bundleGroup.runAll()"
   ]
  },
  {
   "cell_type": "markdown",
   "id": "1ceb92fa",
   "metadata": {},
   "source": [
    "Now we can unpack the metric values.  Since a HEALpixSlicer is normally used with science metrics, the returned array will be NPIX long, but the value we are interested in is that for the HEALpix containing the RGBTDS survey field"
   ]
  },
  {
   "cell_type": "code",
   "execution_count": 66,
   "id": "d48d918c",
   "metadata": {},
   "outputs": [
    {
     "name": "stdout",
     "output_type": "stream",
     "text": [
      "Median interval between Rubin visits to the RGBTDS field during Roman season gaps = 1.012864418058598 days\n"
     ]
    }
   ],
   "source": [
    "metricRunName = 'baseline_v3_0_10yrs_RomanRubinInterSeasonObsMetric_fiveSigmaDepth_gt_21_5_HEAL'\n",
    "metricMap = bundleDict[metricRunName].metricValues.data\n",
    "\n",
    "bulge_hp = healpixel_functions.skycoord_to_HPindex(roman_survey.bulge_field, 64)[0]\n",
    "metricValue = metricMap[bulge_hp]\n",
    "\n",
    "print('Median interval between Rubin visits to the RGBTDS field during Roman season gaps = '+str(metricValue)+' days')"
   ]
  },
  {
   "cell_type": "code",
   "execution_count": null,
   "id": "869a2f49",
   "metadata": {},
   "outputs": [],
   "source": []
  }
 ],
 "metadata": {
  "kernelspec": {
   "display_name": "Python 3 (ipykernel)",
   "language": "python",
   "name": "python3"
  },
  "language_info": {
   "codemirror_mode": {
    "name": "ipython",
    "version": 3
   },
   "file_extension": ".py",
   "mimetype": "text/x-python",
   "name": "python",
   "nbconvert_exporter": "python",
   "pygments_lexer": "ipython3",
   "version": "3.9.7"
  }
 },
 "nbformat": 4,
 "nbformat_minor": 5
}
